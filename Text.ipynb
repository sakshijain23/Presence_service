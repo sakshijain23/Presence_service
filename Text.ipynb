{
  "nbformat": 4,
  "nbformat_minor": 0,
  "metadata": {
    "colab": {
      "name": "Text.ipynb",
      "provenance": [],
      "authorship_tag": "ABX9TyOe7OcAjVfRpGRugUxqwxan",
      "include_colab_link": true
    },
    "kernelspec": {
      "name": "python3",
      "display_name": "Python 3"
    },
    "accelerator": "GPU"
  },
  "cells": [
    {
      "cell_type": "markdown",
      "metadata": {
        "id": "view-in-github",
        "colab_type": "text"
      },
      "source": [
        "<a href=\"https://colab.research.google.com/github/sakshijain23/Presence_service/blob/master/Text.ipynb\" target=\"_parent\"><img src=\"https://colab.research.google.com/assets/colab-badge.svg\" alt=\"Open In Colab\"/></a>"
      ]
    },
    {
      "cell_type": "code",
      "metadata": {
        "id": "Am3nF-d4xa-S"
      },
      "source": [
        "import os"
      ],
      "execution_count": null,
      "outputs": []
    },
    {
      "cell_type": "code",
      "metadata": {
        "colab": {
          "base_uri": "https://localhost:8080/"
        },
        "id": "_C0_0WfDXdc0",
        "outputId": "7f63bf90-4119-4f8a-c58f-75efa18f4fd2"
      },
      "source": [
        "!unzip TextNormSeq2Seq-master.zip"
      ],
      "execution_count": 3,
      "outputs": [
        {
          "output_type": "stream",
          "text": [
            "Archive:  TextNormSeq2Seq-master.zip\n",
            "882da6be33a2d95fa38546274d719a482e71298d\n",
            "   creating: TextNormSeq2Seq-master/\n",
            "  inflating: TextNormSeq2Seq-master/.gitignore  \n",
            "  inflating: TextNormSeq2Seq-master/LICENSE  \n",
            "  inflating: TextNormSeq2Seq-master/README.md  \n",
            " extracting: TextNormSeq2Seq-master/__init__.py  \n",
            "   creating: TextNormSeq2Seq-master/lib/\n",
            "  inflating: TextNormSeq2Seq-master/lib/__init__.py  \n",
            "   creating: TextNormSeq2Seq-master/lib/data/\n",
            "  inflating: TextNormSeq2Seq-master/lib/data/DataLoader.py  \n",
            "  inflating: TextNormSeq2Seq-master/lib/data/Dataset.py  \n",
            "  inflating: TextNormSeq2Seq-master/lib/data/Dict.py  \n",
            "  inflating: TextNormSeq2Seq-master/lib/data/Tweet.py  \n",
            "  inflating: TextNormSeq2Seq-master/lib/data/__init__.py  \n",
            "  inflating: TextNormSeq2Seq-master/lib/data/constants.py  \n",
            "   creating: TextNormSeq2Seq-master/lib/metric/\n",
            "  inflating: TextNormSeq2Seq-master/lib/metric/__init__.py  \n",
            "  inflating: TextNormSeq2Seq-master/lib/metric/loss.py  \n",
            "  inflating: TextNormSeq2Seq-master/lib/metric/metrics.py  \n",
            "  inflating: TextNormSeq2Seq-master/lib/metric/utils.py  \n",
            "   creating: TextNormSeq2Seq-master/lib/model/\n",
            "  inflating: TextNormSeq2Seq-master/lib/model/__init__.py  \n",
            "  inflating: TextNormSeq2Seq-master/lib/model/model.py  \n",
            "  inflating: TextNormSeq2Seq-master/lib/model/model_factory.py  \n",
            "   creating: TextNormSeq2Seq-master/lib/train/\n",
            "  inflating: TextNormSeq2Seq-master/lib/train/__init__.py  \n",
            "  inflating: TextNormSeq2Seq-master/lib/train/evaluator.py  \n",
            "  inflating: TextNormSeq2Seq-master/lib/train/optim.py  \n",
            "  inflating: TextNormSeq2Seq-master/lib/train/trainer.py  \n",
            "  inflating: TextNormSeq2Seq-master/main.py  \n",
            "  inflating: TextNormSeq2Seq-master/parameters.py  \n"
          ],
          "name": "stdout"
        }
      ]
    },
    {
      "cell_type": "code",
      "metadata": {
        "colab": {
          "base_uri": "https://localhost:8080/"
        },
        "id": "qYA8HTFGpCqv",
        "outputId": "f5b40113-c8c1-4c73-e36b-3a64706670a0"
      },
      "source": [
        "!mkdir dataset\r\n",
        "!cd dataset\r\n",
        "!wget https://github.com/noisy-text/noisy-text.github.io/raw/master/2015/files/lexnorm2015.tgz\r\n",
        "!tar -zxvf lexnorm2015.tgz\r\n",
        "!cp lexnorm2015/* .\r\n",
        "!rm -rf lexnorm2015 lexnorm2015.tgz\r\n",
        "#!cd .."
      ],
      "execution_count": null,
      "outputs": [
        {
          "output_type": "stream",
          "text": [
            "--2020-12-24 08:58:24--  https://github.com/noisy-text/noisy-text.github.io/raw/master/2015/files/lexnorm2015.tgz\n",
            "Resolving github.com (github.com)... 192.30.255.112\n",
            "Connecting to github.com (github.com)|192.30.255.112|:443... connected.\n",
            "HTTP request sent, awaiting response... 302 Found\n",
            "Location: https://raw.githubusercontent.com/noisy-text/noisy-text.github.io/master/2015/files/lexnorm2015.tgz [following]\n",
            "--2020-12-24 08:58:24--  https://raw.githubusercontent.com/noisy-text/noisy-text.github.io/master/2015/files/lexnorm2015.tgz\n",
            "Resolving raw.githubusercontent.com (raw.githubusercontent.com)... 151.101.0.133, 151.101.64.133, 151.101.128.133, ...\n",
            "Connecting to raw.githubusercontent.com (raw.githubusercontent.com)|151.101.0.133|:443... connected.\n",
            "HTTP request sent, awaiting response... 200 OK\n",
            "Length: 580807 (567K) [application/octet-stream]\n",
            "Saving to: ‘lexnorm2015.tgz’\n",
            "\n",
            "\rlexnorm2015.tgz       0%[                    ]       0  --.-KB/s               \rlexnorm2015.tgz     100%[===================>] 567.19K  --.-KB/s    in 0.03s   \n",
            "\n",
            "2020-12-24 08:58:24 (17.7 MB/s) - ‘lexnorm2015.tgz’ saved [580807/580807]\n",
            "\n",
            "lexnorm2015/\n",
            "lexnorm2015/readme.txt\n",
            "lexnorm2015/._test_data.json\n",
            "lexnorm2015/test_data.json\n",
            "lexnorm2015/._test_truth.json\n",
            "lexnorm2015/test_truth.json\n",
            "lexnorm2015/._train_data.json\n",
            "lexnorm2015/train_data.json\n"
          ],
          "name": "stdout"
        }
      ]
    },
    {
      "cell_type": "code",
      "metadata": {
        "colab": {
          "base_uri": "https://localhost:8080/"
        },
        "id": "nwj-P0-kYz93",
        "outputId": "a7da5d5d-6f04-4d85-ff88-4c4cf27af2ff"
      },
      "source": [
        "%cd TextNormSeq2Seq-master"
      ],
      "execution_count": 4,
      "outputs": [
        {
          "output_type": "stream",
          "text": [
            "/content/TextNormSeq2Seq-master\n"
          ],
          "name": "stdout"
        }
      ]
    },
    {
      "cell_type": "code",
      "metadata": {
        "colab": {
          "base_uri": "https://localhost:8080/"
        },
        "id": "5NML3MDlY_cL",
        "outputId": "856f9463-a594-402b-a703-a5ac3c369eec"
      },
      "source": [
        "!ls"
      ],
      "execution_count": 5,
      "outputs": [
        {
          "output_type": "stream",
          "text": [
            "__init__.py  lib  LICENSE  main.py  parameters.py  README.md\n"
          ],
          "name": "stdout"
        }
      ]
    },
    {
      "cell_type": "code",
      "metadata": {
        "colab": {
          "base_uri": "https://localhost:8080/"
        },
        "id": "nKtHzvWLZldv",
        "outputId": "61797737-1ea0-4e06-9918-3f81a9ca6883"
      },
      "source": [
        "!mkdir dataset\r\n",
        "%cd dataset\r\n",
        "!wget https://github.com/noisy-text/noisy-text.github.io/raw/master/2015/files/lexnorm2015.tgz\r\n",
        "!tar -zxvf lexnorm2015.tgz\r\n",
        "!cp lexnorm2015/* .\r\n",
        "!rm -rf lexnorm2015 lexnorm2015.tgz\r\n",
        "%cd .."
      ],
      "execution_count": 6,
      "outputs": [
        {
          "output_type": "stream",
          "text": [
            "/content/TextNormSeq2Seq-master/dataset\n",
            "--2020-12-24 11:34:32--  https://github.com/noisy-text/noisy-text.github.io/raw/master/2015/files/lexnorm2015.tgz\n",
            "Resolving github.com (github.com)... 192.30.255.112\n",
            "Connecting to github.com (github.com)|192.30.255.112|:443... connected.\n",
            "HTTP request sent, awaiting response... 302 Found\n",
            "Location: https://raw.githubusercontent.com/noisy-text/noisy-text.github.io/master/2015/files/lexnorm2015.tgz [following]\n",
            "--2020-12-24 11:34:32--  https://raw.githubusercontent.com/noisy-text/noisy-text.github.io/master/2015/files/lexnorm2015.tgz\n",
            "Resolving raw.githubusercontent.com (raw.githubusercontent.com)... 151.101.0.133, 151.101.64.133, 151.101.128.133, ...\n",
            "Connecting to raw.githubusercontent.com (raw.githubusercontent.com)|151.101.0.133|:443... connected.\n",
            "HTTP request sent, awaiting response... 200 OK\n",
            "Length: 580807 (567K) [application/octet-stream]\n",
            "Saving to: ‘lexnorm2015.tgz’\n",
            "\n",
            "lexnorm2015.tgz     100%[===================>] 567.19K  --.-KB/s    in 0.03s   \n",
            "\n",
            "2020-12-24 11:34:33 (18.9 MB/s) - ‘lexnorm2015.tgz’ saved [580807/580807]\n",
            "\n",
            "lexnorm2015/\n",
            "lexnorm2015/readme.txt\n",
            "lexnorm2015/._test_data.json\n",
            "lexnorm2015/test_data.json\n",
            "lexnorm2015/._test_truth.json\n",
            "lexnorm2015/test_truth.json\n",
            "lexnorm2015/._train_data.json\n",
            "lexnorm2015/train_data.json\n",
            "/content/TextNormSeq2Seq-master\n"
          ],
          "name": "stdout"
        }
      ]
    },
    {
      "cell_type": "code",
      "metadata": {
        "colab": {
          "base_uri": "https://localhost:8080/"
        },
        "id": "RT5c7eugZuIn",
        "outputId": "c77343c7-b397-4a3f-875a-8b5a57b25b8a"
      },
      "source": [
        "!ls"
      ],
      "execution_count": 7,
      "outputs": [
        {
          "output_type": "stream",
          "text": [
            "dataset  __init__.py  lib  LICENSE  main.py  parameters.py  README.md\n"
          ],
          "name": "stdout"
        }
      ]
    },
    {
      "cell_type": "code",
      "metadata": {
        "colab": {
          "base_uri": "https://localhost:8080/"
        },
        "id": "-rY_O1FLvhIH",
        "outputId": "9f2b3e5d-919f-47dd-cbcb-2058e15d7cd6"
      },
      "source": [
        "!pip install -q torch==0.4.1 torchvision==0.2.2"
      ],
      "execution_count": 27,
      "outputs": [
        {
          "output_type": "stream",
          "text": [
            "\u001b[K     |████████████████████████████████| 71kB 3.8MB/s \n",
            "\u001b[K     |████████████████████████████████| 61kB 5.4MB/s \n",
            "\u001b[31mERROR: spacy 2.2.4 has requirement tqdm<5.0.0,>=4.38.0, but you'll have tqdm 4.19.9 which is incompatible.\u001b[0m\n",
            "\u001b[31mERROR: fbprophet 0.7.1 has requirement tqdm>=4.36.1, but you'll have tqdm 4.19.9 which is incompatible.\u001b[0m\n",
            "\u001b[31mERROR: fastai 1.0.61 has requirement torch>=1.0.0, but you'll have torch 0.4.1 which is incompatible.\u001b[0m\n",
            "\u001b[?25h"
          ],
          "name": "stdout"
        }
      ]
    },
    {
      "cell_type": "code",
      "metadata": {
        "colab": {
          "base_uri": "https://localhost:8080/"
        },
        "id": "AoEOYt6Qzish",
        "outputId": "9f16bc13-d248-4385-f794-7d3a7abc6ea7"
      },
      "source": [
        "!pip install --trusted-host pypi.org --trusted-host files.pythonhosted.org torch===0.4.1 torchvision===0.4.2 "
      ],
      "execution_count": 33,
      "outputs": [
        {
          "output_type": "stream",
          "text": [
            "Requirement already satisfied: torch===0.4.1 in /usr/local/lib/python3.6/dist-packages (0.4.1)\n",
            "Requirement already satisfied: torchvision===0.4.2 in /usr/local/lib/python3.6/dist-packages (0.4.2)\n",
            "Requirement already satisfied: pillow>=4.1.1 in /usr/local/lib/python3.6/dist-packages (from torchvision===0.4.2) (7.0.0)\n",
            "Requirement already satisfied: numpy in /usr/local/lib/python3.6/dist-packages (from torchvision===0.4.2) (1.19.4)\n",
            "Requirement already satisfied: six in /usr/local/lib/python3.6/dist-packages (from torchvision===0.4.2) (1.15.0)\n"
          ],
          "name": "stdout"
        }
      ]
    },
    {
      "cell_type": "code",
      "metadata": {
        "colab": {
          "base_uri": "https://localhost:8080/"
        },
        "id": "ArCBaCrs0V5W",
        "outputId": "2e8c3146-db65-42c2-aeac-6b0a15b6f1ad"
      },
      "source": [
        "!pip install --trusted-host pypi.org --trusted-host files.pythonhosted.org torch===0.4.1 torchvision===0.4.2 -f https://download.pytorch.org/whl/torch_stable.html"
      ],
      "execution_count": 37,
      "outputs": [
        {
          "output_type": "stream",
          "text": [
            "Looking in links: https://download.pytorch.org/whl/torch_stable.html\n",
            "Requirement already satisfied: torch===0.4.1 in /usr/local/lib/python3.6/dist-packages (0.4.1)\n",
            "Requirement already satisfied: torchvision===0.4.2 in /usr/local/lib/python3.6/dist-packages (0.4.2)\n",
            "Requirement already satisfied: numpy in /usr/local/lib/python3.6/dist-packages (from torchvision===0.4.2) (1.19.4)\n",
            "Requirement already satisfied: pillow>=4.1.1 in /usr/local/lib/python3.6/dist-packages (from torchvision===0.4.2) (7.0.0)\n",
            "Requirement already satisfied: six in /usr/local/lib/python3.6/dist-packages (from torchvision===0.4.2) (1.15.0)\n"
          ],
          "name": "stdout"
        }
      ]
    },
    {
      "cell_type": "code",
      "metadata": {
        "colab": {
          "base_uri": "https://localhost:8080/"
        },
        "id": "1uJn5AF9sbui",
        "outputId": "5be89649-558a-450d-cb4b-a2ce686c7846"
      },
      "source": [
        "import torch\r\n",
        "print(torch.__version__)"
      ],
      "execution_count": 38,
      "outputs": [
        {
          "output_type": "stream",
          "text": [
            "1.7.0+cu101\n"
          ],
          "name": "stdout"
        }
      ]
    },
    {
      "cell_type": "code",
      "metadata": {
        "id": "BPoWUpQyaSia"
      },
      "source": [
        "!python main.py -logfolder -save_dir word_model -gpu 0 -input word -attention -bias -lowercase -bos -eos -brnn -batch_size 32 -dropout 0.5 -emb_size 100 -end_epoch 50 -layers 3 -learning_rate_decay 0.05 -lr 0.01 -max_grad_norm 5 -rnn_size 200 -rnn_type 'LSTM' -tie_decoder_embeddings -share_embeddings -share_vocab -start_decay_after 15 -teacher_forcing_ratio 0.6  -max_train_decode_len 50\r\n"
      ],
      "execution_count": 40,
      "outputs": []
    },
    {
      "cell_type": "code",
      "metadata": {
        "id": "54oeXz6H9Nm7"
      },
      "source": [
        "!python main.py -logfolder -save_dir spelling_model -gpu 0 -input spelling -data_augm -noise_ratio 0.1 -attention -bias -lowercase -bos -eos -brnn -batch_size 500 -dropout 0.5 -emb_size 256 -end_epoch 50 -layers 3 -learning_rate_decay 0.05 -lr 0.001 -max_grad_norm 5 -rnn_size 500 -rnn_type 'LSTM'  -tie_decoder_embeddings -share_embeddings -share_vocab -start_decay_after 30 -teacher_forcing_ratio 0.6  -max_train_decode_len 50"
      ],
      "execution_count": 41,
      "outputs": []
    }
  ]
}